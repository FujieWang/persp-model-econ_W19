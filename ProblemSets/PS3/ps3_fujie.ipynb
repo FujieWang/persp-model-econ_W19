{
 "cells": [
  {
   "cell_type": "code",
   "execution_count": 48,
   "metadata": {},
   "outputs": [],
   "source": [
    "#5.1"
   ]
  },
  {
   "cell_type": "markdown",
   "metadata": {},
   "source": [
    "For T = 1\n",
    "$$ V_T(W_T) = \\max_{W_{T+1}} \\: U(W_T - W_{T+1}) = U(W_T) $$\n",
    "$$ W_{T+1} = \\psi_T(W_T) = 0 \\quad\\forall W_T $$"
   ]
  },
  {
   "cell_type": "code",
   "execution_count": 44,
   "metadata": {},
   "outputs": [],
   "source": [
    "#5.2"
   ]
  },
  {
   "cell_type": "markdown",
   "metadata": {},
   "source": [
    "For T = 2\n",
    "$$ V_T(W_T) = \\max_{W_{T+1}} \\: U(W_T - W_{T+1}) = U(W_T) $$\n",
    "$$ W_{T+1} = \\psi_T(W_T) = 0 \\quad\\forall W_T $$\n",
    "\n",
    "$$ V_{T-1}(W_{T-1}) = \\max_{W_T} \\: U(W_{T-1} - W_T) + \\beta U(W_T) $$\n",
    "$$ W_T = \\psi_{T-1}(W_{T-1}) : U\\prime(W_{T-1} - W_T) = \\beta U\\prime(W_T) $$"
   ]
  },
  {
   "cell_type": "code",
   "execution_count": 45,
   "metadata": {},
   "outputs": [],
   "source": [
    "#5.3"
   ]
  },
  {
   "cell_type": "markdown",
   "metadata": {},
   "source": [
    "For T = 3\n",
    "$$ \\max_{W_{T-1}\\quad W_T} \\: U(W_{T-2} - W_{T-1}) + \\beta U(W_{T-1}-W_T) + \\beta^2 U(W_T) $$\n",
    "\n",
    "$$ \\max_{W_{T-1}} \\: U(W_{T-2} - W_{T-1}) + \\beta U(W_{T-1}-\\psi_{T-1}(W_{T-1})) + \\beta^2 U(\\psi_{T-1}(W_{T-1})) $$\n",
    "\n",
    "To derive w.r.t. $W_{T-1}$:\n",
    "$$ U\\prime(W_{T-2} - W_{T-1}) = \\beta U\\prime(W_{T-1}-W_T) $$\n",
    "That is:\n",
    "$$ U\\prime(W_{1} - W_{2}) = \\beta U\\prime(W_{2}-W_3) $$\n",
    "\n",
    "Also:\n",
    "$$ U\\prime(W_{T-1} - W_T) = \\beta U\\prime(W_T) $$\n",
    "That is:\n",
    "$$ U\\prime(W_{2} - W_3) = \\beta U\\prime(W_3) $$\n",
    "\n"
   ]
  },
  {
   "cell_type": "code",
   "execution_count": 46,
   "metadata": {},
   "outputs": [],
   "source": [
    "# for u = ln(c), u_prime = 1/c\n",
    "import sympy as sy\n",
    "w2 = sy.symbols('w2')\n",
    "w3 = sy.symbols('w3')\n",
    "sol = sy.solve([1/(1 - w2)-0.9 * 1/(w2 - w3), 1/(w2 - w3)-0.9 * 1/w3], dict = True)"
   ]
  },
  {
   "cell_type": "code",
   "execution_count": 47,
   "metadata": {},
   "outputs": [
    {
     "name": "stdout",
     "output_type": "stream",
     "text": [
      "{'w1': 1, 'w2': 0.630996309963100, 'w3': 0.298892988929889, 'w4': 0}\n",
      "{'c1': 0.369003690036900, 'c2': 0.332103321033210, 'c3': 0.298892988929889}\n"
     ]
    }
   ],
   "source": [
    "import numpy as np\n",
    "w_1 = 1\n",
    "w_2 = sol[0][w2]\n",
    "w_3 = sol[0][w3]\n",
    "w_4 = 0\n",
    "w = [w_1,w_2,w_3,w_4]\n",
    "c = (np.array(w[:-1]) -np.array(w[1:])).tolist()\n",
    "keys_c = ['c1', 'c2', 'c3']\n",
    "keys_w =['w1','w2','w3','w4']\n",
    "W = dict(zip(keys_w, w))\n",
    "C = dict(zip(keys_c, c))\n",
    "print(W)\n",
    "print(C)"
   ]
  },
  {
   "cell_type": "code",
   "execution_count": 55,
   "metadata": {},
   "outputs": [
    {
     "data": {
      "image/png": "[encoded data removed]",
      "text/plain": [
       "<matplotlib.figure.Figure at 0x11899dbe0>"
      ]
     },
     "metadata": {},
     "output_type": "display_data"
    }
   ],
   "source": [
    "#to plot \n",
    "import matplotlib.pyplot as plt\n",
    "T2 = [1,2,3]\n",
    "plt.plot(T2,c)\n",
    "plt.xlabel(\"T\")\n",
    "plt.ylabel(\"C\")\n",
    "plt.show()"
   ]
  },
  {
   "cell_type": "code",
   "execution_count": null,
   "metadata": {},
   "outputs": [],
   "source": [
    "T = [0,1,2,3]\n",
    "plt.plot(T,w)\n",
    "plt.xlabel(\"T\")\n",
    "plt.ylabel(\"W\")\n",
    "plt.show()"
   ]
  },
  {
   "cell_type": "code",
   "execution_count": null,
   "metadata": {},
   "outputs": [],
   "source": [
    "#5.4"
   ]
  },
  {
   "cell_type": "markdown",
   "metadata": {},
   "source": [
    "The condition is:\n",
    "$$ U\\prime(W_{T-1} - W_T) = \\beta U\\prime(W_T) $$\n",
    "The value function is:\n",
    "$$ V_{T-1}(W_{T-1}) = \\max_{W_{T-1}} \\: U(W_{T-1} - \\psi_{T-1}(W_{T-1})) + \\beta U(\\psi_{T-1}(W_{T-1})) $$"
   ]
  },
  {
   "cell_type": "code",
   "execution_count": null,
   "metadata": {},
   "outputs": [],
   "source": [
    "#5.5"
   ]
  },
  {
   "cell_type": "markdown",
   "metadata": {},
   "source": [
    "By $U\\prime(\\bar W-W_T) = \\beta U\\prime(W_T)$, we know that,\n",
    "$$W_T/\\bar W = \\beta/(\\beta + 1)  $$\n",
    "\n",
    "If $V_{T-1}(\\bar W)$ = $V_{T}(\\bar W)$, then\n",
    "$$\\bar W = (\\bar W-W_T)*(W_T)^\\beta$$\n",
    "That is\n",
    "$$1/(\\beta + 1) * (W_T)^\\beta = 1 $$\n",
    "which is impossible because $1/(\\beta + 1) < 1$ and $(W_T)^\\beta <= 1$.\n",
    "Therefore, $U\\prime(\\bar W-W_T) = \\beta U\\prime(W_T)$ is impossible\n",
    "\n",
    "\n",
    "If $\\psi_{T-1}(\\bar W)$ = $\\psi_{T}(\\bar W)$\n",
    "$$W_T = 0$$\n",
    "\n",
    "If $$W_T = 0$$, \n",
    "$$ U\\prime(\\bar W) = \\beta U\\prime(0) $$\n",
    "\n",
    "When $U(c) = ln(c)$, $U\\prime(0)$ is infinity, thus $\\beta U\\prime(0)$ must be infinity. And $U\\prime(\\bar W)$ is a positive number.\n",
    "\n",
    "Therefore, $ U\\prime(\\bar W) = \\beta U\\prime(0) $ is not possible.\n",
    "Hence, $W_T = 0$ is not possible.\n",
    "Then $V_{T-1}(\\bar W)$ = $V_{T}(\\bar W)$ and $\\psi_{T-1}(\\bar W)$ = $\\psi_{T}(\\bar W)$ are not possible."
   ]
  },
  {
   "cell_type": "code",
   "execution_count": null,
   "metadata": {},
   "outputs": [],
   "source": [
    "#5.6"
   ]
  },
  {
   "cell_type": "markdown",
   "metadata": {},
   "source": [
    "$$ \\max_{W_{T-1}\\quad W_T} \\: U(W_{T-2} - W_{T-1}) + \\beta U(W_{T-1}-W_T) + \\beta^2 U(W_T) $$\n",
    "\n",
    "$$ \\max_{W_{T-1}} \\: U(W_{T-2} - W_{T-1}) + \\beta U(W_{T-1}-\\psi_{T-1}(W_{T-1})) + \\beta^2 U(\\psi_{T-1}(W_{T-1})) $$\n",
    "\n",
    "To derive w.r.t. $W_{T-1}$:\n",
    "$$ W_{T-1} = \\psi_{T-2}(W_{T-2}) : U\\prime(W_{T-2} - W_{T-1}) = \\beta U\\prime(W_{T-1}-W_T) $$\n",
    "\n",
    "That is:\n",
    "$$ 1/(W_{T-2} - W_{T-1}) = \\beta * 1/(W_{T-1}-W_T) $$\n",
    "Also, \n",
    "$$ 1/(W_{T-1} - W_T) = \\beta /W_T $$\n",
    "Then,\n",
    "$$ (1+\\beta+\\beta^2)/\\beta(1+\\beta) * W_{T-1} = W_{T-2} $$\n",
    "\n",
    "\n",
    "So The Bellman Equation:\n",
    "\n",
    "$$ V_{T-2}(W_{T-2}) = ln(\\frac{W_{T-2}}{1+\\beta+\\beta^2}) + \\beta ln(\\frac{\\beta W_{T-2}}{1+\\beta+\\beta^2}) + \\beta^2ln(\\frac{\\beta^2 W_{T-2}}{1+\\beta+\\beta^2})  $$"
   ]
  },
  {
   "cell_type": "code",
   "execution_count": null,
   "metadata": {},
   "outputs": [],
   "source": [
    "#5.7"
   ]
  },
  {
   "cell_type": "markdown",
   "metadata": {},
   "source": [
    "The analytical solution is:\n",
    "$$ \\psi_{T-s}(W_{T-s}) = W_{T-s+1} = \\frac{\\sum_{i=1}^{s} \\beta^i}{1 + \\sum_{i=1}^{s} \\beta^i} W_{T-s} $$\n",
    "\n",
    "$$ V_{T-s}(W_{T-s}) = \\sum_{i=0}^{s} \\beta^i \\ln(\\frac{\\beta^i W_{T-s}}{1 + \\sum_{i=1}^{s} \\beta^i}) $$\n",
    "\n",
    "Thus:\n",
    "$$ \\lim\\limits_{s \\to \\infty} \\psi_{T-s}(W_{T-s}) = \\beta W_{T-s} = \\psi(W_{T-s}) $$\n",
    "<br>\n",
    "$$ \\lim\\limits_{s \\to \\infty} V_{T-s}(W_{T-s}) = (\\frac{1}{1-\\beta}) \\ln((1-\\beta)W_{T-s}) + \\frac{\\beta}{(1-\\beta)^2} \\ln(\\beta) = V(W_{T-s}) $$\n"
   ]
  },
  {
   "cell_type": "code",
   "execution_count": null,
   "metadata": {},
   "outputs": [],
   "source": [
    "#5.8"
   ]
  },
  {
   "cell_type": "markdown",
   "metadata": {},
   "source": [
    "Let $W'$ represent the cake left tomorrow. $ W' \\in [0, W] $\n",
    "$$ V(W) = \\max_{W'} \\: u(W - W') + \\beta V(W') $$"
   ]
  },
  {
   "cell_type": "code",
   "execution_count": null,
   "metadata": {},
   "outputs": [],
   "source": [
    "#5.9"
   ]
  },
  {
   "cell_type": "code",
   "execution_count": 119,
   "metadata": {},
   "outputs": [
    {
     "data": {
      "text/plain": [
       "array([0.01, 0.02, 0.03, 0.04, 0.05, 0.06, 0.07, 0.08, 0.09, 0.1 , 0.11,\n",
       "       0.12, 0.13, 0.14, 0.15, 0.16, 0.17, 0.18, 0.19, 0.2 , 0.21, 0.22,\n",
       "       0.23, 0.24, 0.25, 0.26, 0.27, 0.28, 0.29, 0.3 , 0.31, 0.32, 0.33,\n",
       "       0.34, 0.35, 0.36, 0.37, 0.38, 0.39, 0.4 , 0.41, 0.42, 0.43, 0.44,\n",
       "       0.45, 0.46, 0.47, 0.48, 0.49, 0.5 , 0.51, 0.52, 0.53, 0.54, 0.55,\n",
       "       0.56, 0.57, 0.58, 0.59, 0.6 , 0.61, 0.62, 0.63, 0.64, 0.65, 0.66,\n",
       "       0.67, 0.68, 0.69, 0.7 , 0.71, 0.72, 0.73, 0.74, 0.75, 0.76, 0.77,\n",
       "       0.78, 0.79, 0.8 , 0.81, 0.82, 0.83, 0.84, 0.85, 0.86, 0.87, 0.88,\n",
       "       0.89, 0.9 , 0.91, 0.92, 0.93, 0.94, 0.95, 0.96, 0.97, 0.98, 0.99,\n",
       "       1.  ])"
      ]
     },
     "execution_count": 119,
     "metadata": {},
     "output_type": "execute_result"
    }
   ],
   "source": [
    "import numpy as np\n",
    "#set a vector of discretized cake sizes\n",
    "W_lb = 1e-2\n",
    "W_ub = 1.0\n",
    "N = 100\n",
    "W_vec = np.linspace(W_lb, W_ub, N)\n",
    "W_vec"
   ]
  },
  {
   "cell_type": "code",
   "execution_count": 120,
   "metadata": {},
   "outputs": [],
   "source": [
    "#5.10"
   ]
  },
  {
   "cell_type": "code",
   "execution_count": 121,
   "metadata": {},
   "outputs": [
    {
     "data": {
      "text/plain": [
       "array([0.01, 0.01, 0.01, 0.01, 0.01, 0.01, 0.01, 0.01, 0.01, 0.01, 0.01,\n",
       "       0.01, 0.01, 0.01, 0.01, 0.01, 0.01, 0.01, 0.01, 0.01, 0.01, 0.01,\n",
       "       0.01, 0.01, 0.01, 0.01, 0.01, 0.01, 0.01, 0.01, 0.01, 0.01, 0.01,\n",
       "       0.01, 0.01, 0.01, 0.01, 0.01, 0.01, 0.01, 0.01, 0.01, 0.01, 0.01,\n",
       "       0.01, 0.01, 0.01, 0.01, 0.01, 0.01, 0.01, 0.01, 0.01, 0.01, 0.01,\n",
       "       0.01, 0.01, 0.01, 0.01, 0.01, 0.01, 0.01, 0.01, 0.01, 0.01, 0.01,\n",
       "       0.01, 0.01, 0.01, 0.01, 0.01, 0.01, 0.01, 0.01, 0.01, 0.01, 0.01,\n",
       "       0.01, 0.01, 0.01, 0.01, 0.01, 0.01, 0.01, 0.01, 0.01, 0.01, 0.01,\n",
       "       0.01, 0.01, 0.01, 0.01, 0.01, 0.01, 0.01, 0.01, 0.01, 0.01, 0.01,\n",
       "       0.01])"
      ]
     },
     "execution_count": 121,
     "metadata": {},
     "output_type": "execute_result"
    }
   ],
   "source": [
    "#choose a utility function u(c) = log(c)\n",
    "def utility(c):\n",
    "    util = np.log(c)\n",
    "    return util\n",
    "\n",
    "beta = 0.9\n",
    "\n",
    "V_prime = np.zeros(N).reshape(N,1)\n",
    "V_init = utility(W_vec)\n",
    "\n",
    "# Create utility matrix\n",
    "c_mat = (np.tile(W_vec.reshape((N,1)),(1,N)) - \n",
    "        np.tile(W_vec.reshape((1,N)),(N,1)))\n",
    "c_pos = c_mat > 0\n",
    "c_mat[~c_pos] = 1e-7\n",
    "u_mat = utility(c_mat)\n",
    "VT = u_mat + beta * V_prime\n",
    "V_new = VT.max(axis = 1)\n",
    "index = np.argmax(u_mat + beta * V_prime, axis = 1)\n",
    "W_vec[index]"
   ]
  },
  {
   "cell_type": "code",
   "execution_count": 122,
   "metadata": {},
   "outputs": [
    {
     "data": {
      "image/png": "[encoded data removed]",
      "text/plain": [
       "<matplotlib.figure.Figure at 0x118ebf9e8>"
      ]
     },
     "metadata": {},
     "output_type": "display_data"
    }
   ],
   "source": [
    "plt.plot(W_vec,W_vec[index])\n",
    "plt.title(\"policy function\")\n",
    "plt.show()"
   ]
  },
  {
   "cell_type": "code",
   "execution_count": 123,
   "metadata": {},
   "outputs": [
    {
     "data": {
      "image/png": "[encoded data removed]",
      "text/plain": [
       "<matplotlib.figure.Figure at 0x119055668>"
      ]
     },
     "metadata": {},
     "output_type": "display_data"
    }
   ],
   "source": [
    "plt.plot(V_new)\n",
    "plt.title(\"value function\")\n",
    "plt.show()"
   ]
  },
  {
   "cell_type": "code",
   "execution_count": 124,
   "metadata": {},
   "outputs": [],
   "source": [
    "#5.11"
   ]
  },
  {
   "cell_type": "code",
   "execution_count": 125,
   "metadata": {},
   "outputs": [
    {
     "data": {
      "text/plain": [
       "133.5146419730059"
      ]
     },
     "execution_count": 125,
     "metadata": {},
     "output_type": "execute_result"
    }
   ],
   "source": [
    "dist = np.sum((V_new - V_init)**2)\n",
    "dist"
   ]
  },
  {
   "cell_type": "code",
   "execution_count": 126,
   "metadata": {},
   "outputs": [],
   "source": [
    "#5.12"
   ]
  },
  {
   "cell_type": "code",
   "execution_count": 127,
   "metadata": {},
   "outputs": [
    {
     "data": {
      "text/plain": [
       "array([0.01, 0.01, 0.02, 0.02, 0.03, 0.03, 0.04, 0.04, 0.05, 0.05, 0.06,\n",
       "       0.06, 0.07, 0.07, 0.08, 0.08, 0.09, 0.09, 0.1 , 0.1 , 0.1 , 0.11,\n",
       "       0.11, 0.12, 0.12, 0.13, 0.13, 0.14, 0.14, 0.15, 0.15, 0.16, 0.16,\n",
       "       0.17, 0.17, 0.18, 0.18, 0.19, 0.19, 0.19, 0.2 , 0.2 , 0.21, 0.21,\n",
       "       0.22, 0.22, 0.23, 0.23, 0.24, 0.24, 0.25, 0.25, 0.26, 0.26, 0.27,\n",
       "       0.27, 0.28, 0.28, 0.28, 0.29, 0.29, 0.3 , 0.3 , 0.31, 0.31, 0.32,\n",
       "       0.32, 0.33, 0.33, 0.34, 0.34, 0.35, 0.35, 0.36, 0.36, 0.37, 0.37,\n",
       "       0.37, 0.38, 0.38, 0.39, 0.39, 0.4 , 0.4 , 0.41, 0.41, 0.42, 0.42,\n",
       "       0.43, 0.43, 0.44, 0.44, 0.45, 0.45, 0.46, 0.46, 0.46, 0.47, 0.47,\n",
       "       0.48])"
      ]
     },
     "execution_count": 127,
     "metadata": {},
     "output_type": "execute_result"
    }
   ],
   "source": [
    "V_prime = V_new\n",
    "V_init = utility(W_vec)\n",
    "c_mat = (np.tile(W_vec.reshape((N,1)),(1,N)) - \n",
    "        np.tile(W_vec.reshape((1,N)),(N,1)))\n",
    "c_pos = c_mat > 0\n",
    "c_mat[~c_pos] = 1e-7\n",
    "u_mat = utility(c_mat)\n",
    "V_prime = np.tile(V_new.reshape((1,N)),(N,1))\n",
    "V_prime[~c_pos] = -9e+4\n",
    "\n",
    "VT = u_mat + beta * V_prime\n",
    "V_new1 = VT.max(axis = 1)\n",
    "index = np.argmax(u_mat + beta * V_prime, axis = 1)\n",
    "W_vec[index]"
   ]
  },
  {
   "cell_type": "code",
   "execution_count": 128,
   "metadata": {},
   "outputs": [
    {
     "data": {
      "image/png": "[encoded data removed]",
      "text/plain": [
       "<matplotlib.figure.Figure at 0x118744518>"
      ]
     },
     "metadata": {},
     "output_type": "display_data"
    }
   ],
   "source": [
    "plt.plot(W_vec,W_vec[index])\n",
    "plt.title(\"policy function\")\n",
    "plt.show()"
   ]
  },
  {
   "cell_type": "code",
   "execution_count": 129,
   "metadata": {},
   "outputs": [
    {
     "data": {
      "image/png": "[encoded data removed]",
      "text/plain": [
       "<matplotlib.figure.Figure at 0x1189b0f60>"
      ]
     },
     "metadata": {},
     "output_type": "display_data"
    }
   ],
   "source": [
    "plt.plot(V_new1)\n",
    "plt.title(\"value function\")\n",
    "plt.show()"
   ]
  },
  {
   "cell_type": "code",
   "execution_count": 130,
   "metadata": {},
   "outputs": [
    {
     "name": "stdout",
     "output_type": "stream",
     "text": [
      "distance T-1: 6561000726.760478\n",
      "distance T: 133.5146419730059\n",
      "distance gets larger\n"
     ]
    }
   ],
   "source": [
    "dist1 = np.sum((V_new1-V_new)**2)\n",
    "print(\"distance T-1:\",dist1)\n",
    "print(\"distance T:\",dist)\n",
    "print(\"distance gets larger\")"
   ]
  },
  {
   "cell_type": "code",
   "execution_count": 131,
   "metadata": {},
   "outputs": [],
   "source": [
    "#5.13"
   ]
  },
  {
   "cell_type": "code",
   "execution_count": 132,
   "metadata": {},
   "outputs": [
    {
     "data": {
      "text/plain": [
       "array([0.01, 0.01, 0.02, 0.03, 0.03, 0.04, 0.05, 0.05, 0.06, 0.07, 0.07,\n",
       "       0.08, 0.09, 0.09, 0.1 , 0.1 , 0.11, 0.12, 0.12, 0.13, 0.14, 0.14,\n",
       "       0.15, 0.16, 0.16, 0.17, 0.18, 0.18, 0.19, 0.19, 0.2 , 0.2 , 0.21,\n",
       "       0.22, 0.22, 0.23, 0.24, 0.24, 0.25, 0.26, 0.26, 0.27, 0.28, 0.28,\n",
       "       0.29, 0.29, 0.3 , 0.31, 0.31, 0.32, 0.33, 0.33, 0.34, 0.35, 0.35,\n",
       "       0.36, 0.36, 0.37, 0.37, 0.38, 0.39, 0.39, 0.4 , 0.41, 0.41, 0.42,\n",
       "       0.43, 0.43, 0.44, 0.45, 0.45, 0.46, 0.46, 0.47, 0.48, 0.48, 0.49,\n",
       "       0.5 , 0.5 , 0.51, 0.52, 0.52, 0.53, 0.53, 0.54, 0.55, 0.55, 0.56,\n",
       "       0.56, 0.57, 0.58, 0.58, 0.59, 0.6 , 0.6 , 0.61, 0.62, 0.62, 0.63,\n",
       "       0.64])"
      ]
     },
     "execution_count": 132,
     "metadata": {},
     "output_type": "execute_result"
    }
   ],
   "source": [
    "V_prime = V_new1\n",
    "V_init = utility(W_vec)\n",
    "c_mat = (np.tile(W_vec.reshape((N,1)),(1,N)) - \n",
    "        np.tile(W_vec.reshape((1,N)),(N,1)))\n",
    "c_pos = c_mat > 0\n",
    "c_mat[~c_pos] = 1e-7\n",
    "u_mat = utility(c_mat)\n",
    "V_prime = np.tile(V_new1.reshape((1,N)),(N,1))\n",
    "V_prime[~c_pos] = -9e+4\n",
    "\n",
    "VT = u_mat + beta * V_prime\n",
    "V_new2 = VT.max(axis = 1)\n",
    "index = np.argmax(u_mat + beta * V_prime, axis = 1)\n",
    "W_vec[index]"
   ]
  },
  {
   "cell_type": "code",
   "execution_count": 133,
   "metadata": {},
   "outputs": [
    {
     "data": {
      "image/png": "[encoded data removed]",
      "text/plain": [
       "<matplotlib.figure.Figure at 0x1189f3e10>"
      ]
     },
     "metadata": {},
     "output_type": "display_data"
    }
   ],
   "source": [
    "plt.plot(W_vec,W_vec[index])\n",
    "plt.title(\"policy function\")\n",
    "plt.show()"
   ]
  },
  {
   "cell_type": "code",
   "execution_count": 134,
   "metadata": {},
   "outputs": [
    {
     "data": {
      "image/png": "[encoded data removed]",
      "text/plain": [
       "<matplotlib.figure.Figure at 0x1189b0e48>"
      ]
     },
     "metadata": {},
     "output_type": "display_data"
    }
   ],
   "source": [
    "plt.plot(V_new2)\n",
    "plt.title(\"value function\")\n",
    "plt.show()"
   ]
  },
  {
   "cell_type": "code",
   "execution_count": 135,
   "metadata": {},
   "outputs": [
    {
     "name": "stdout",
     "output_type": "stream",
     "text": [
      "distance T-2: 5314410766.632152\n",
      "distance T-1: 6561000726.760478\n",
      "distance T: 133.5146419730059\n",
      "distance gets smaller from T-1 to T-2\n"
     ]
    }
   ],
   "source": [
    "dist2 = np.sum((V_new2-V_new1)**2)\n",
    "print(\"distance T-2:\",dist2)\n",
    "print(\"distance T-1:\",dist1)\n",
    "print(\"distance T:\",dist)\n",
    "print(\"distance gets smaller from T-1 to T-2\")"
   ]
  },
  {
   "cell_type": "code",
   "execution_count": 136,
   "metadata": {},
   "outputs": [],
   "source": [
    "#5.14"
   ]
  },
  {
   "cell_type": "code",
   "execution_count": 137,
   "metadata": {},
   "outputs": [
    {
     "name": "stdout",
     "output_type": "stream",
     "text": [
      "Iter= 1 , distance =  6562865744.5285635\n",
      "Iter= 2 , distance =  5315921432.356884\n",
      "Iter= 3 , distance =  4305896471.418966\n",
      "Iter= 4 , distance =  3487776216.5675955\n",
      "Iter= 5 , distance =  2825098788.019544\n",
      "Iter= 6 , distance =  2288330056.357764\n",
      "Iter= 7 , distance =  1853547373.8090138\n",
      "Iter= 8 , distance =  1501373394.0455368\n",
      "Iter= 9 , distance =  1216112465.4304204\n",
      "Iter= 10 , distance =  985051109.6286845\n",
      "Iter= 11 , distance =  797891408.7166361\n",
      "Iter= 12 , distance =  646292049.0098146\n",
      "Iter= 13 , distance =  523496566.09326845\n",
      "Iter= 14 , distance =  424032223.8060949\n",
      "Iter= 15 , distance =  343466105.6810028\n",
      "Iter= 16 , distance =  278207549.28964245\n",
      "Iter= 17 , distance =  225348118.14783967\n",
      "Iter= 18 , distance =  182531978.5237014\n",
      "Iter= 19 , distance =  147850905.07819986\n",
      "Iter= 20 , distance =  119759235.2952075\n",
      "Iter= 21 , distance =  97004982.62446027\n",
      "Iter= 22 , distance =  78574037.84896688\n",
      "Iter= 23 , distance =  63644972.47794887\n",
      "Iter= 24 , distance =  51552429.430967025\n",
      "Iter= 25 , distance =  41757469.47440472\n",
      "Iter= 26 , distance =  33823551.827785835\n",
      "Iter= 27 , distance =  27397078.459374633\n",
      "Iter= 28 , distance =  22191634.962838765\n",
      "Iter= 29 , distance =  17975225.668041237\n",
      "Iter= 30 , distance =  14559934.08201728\n",
      "Iter= 31 , distance =  11793547.845384818\n",
      "Iter= 32 , distance =  9552774.945148401\n",
      "Iter= 33 , distance =  7737748.852714853\n",
      "Iter= 34 , distance =  6267577.678039737\n",
      "Iter= 35 , distance =  5076738.990749551\n",
      "Iter= 36 , distance =  4112159.6213727905\n",
      "Iter= 37 , distance =  3330850.302746049\n",
      "Iter= 38 , distance =  2697989.7279021647\n",
      "Iter= 39 , distance =  2185372.6378935925\n",
      "Iter= 40 , distance =  1770152.7729575469\n",
      "Iter= 41 , distance =  1433824.6613737969\n",
      "Iter= 42 , distance =  1161398.8725077203\n",
      "Iter= 43 , distance =  940733.966255255\n",
      "Iter= 44 , distance =  761995.3766587331\n",
      "Iter= 45 , distance =  617217.1044967123\n",
      "Iter= 46 , distance =  499946.69099409645\n",
      "Iter= 47 , distance =  404957.64397924696\n",
      "Iter= 48 , distance =  328016.50488471217\n",
      "Iter= 49 , distance =  265694.17112556845\n",
      "Iter= 50 , distance =  215213.07107789887\n",
      "Iter= 51 , distance =  174323.37058658482\n",
      "Iter= 52 , distance =  141202.70459295483\n",
      "Iter= 53 , distance =  114374.95641636376\n",
      "Iter= 54 , distance =  92644.47264714992\n",
      "Iter= 55 , distance =  75042.7735946502\n",
      "Iter= 56 , distance =  60785.389507979846\n",
      "Iter= 57 , distance =  49236.90155629743\n",
      "Iter= 58 , distance =  39882.61927987316\n",
      "Iter= 59 , distance =  32305.644134738748\n",
      "Iter= 60 , distance =  26168.287223927535\n",
      "Iter= 61 , distance =  21197.021841587048\n",
      "Iter= 62 , distance =  17170.289488459726\n",
      "Iter= 63 , distance =  13908.630003651317\n",
      "Iter= 64 , distance =  11266.679087909873\n",
      "Iter= 65 , distance =  9126.692545526796\n",
      "Iter= 66 , distance =  7393.296313751705\n",
      "Iter= 67 , distance =  5989.23897649798\n",
      "Iter= 68 , distance =  4851.944658812899\n",
      "Iter= 69 , distance =  3930.7284462668263\n",
      "Iter= 70 , distance =  3184.5363230619337\n",
      "Iter= 71 , distance =  2580.112611342885\n",
      "Iter= 72 , distance =  2090.5221385606515\n",
      "Iter= 73 , distance =  1693.9447045654001\n",
      "Iter= 74 , distance =  1372.7078372150888\n",
      "Iter= 75 , distance =  1112.4977797380122\n",
      "Iter= 76 , distance =  901.7180385590614\n",
      "Iter= 77 , distance =  730.9748561441429\n",
      "Iter= 78 , distance =  592.6618350006563\n",
      "Iter= 79 , distance =  480.6183842258008\n",
      "Iter= 80 , distance =  389.85153775883634\n",
      "Iter= 81 , distance =  316.3162576883642\n",
      "Iter= 82 , distance =  256.73919927127844\n",
      "Iter= 83 , distance =  208.46968536316135\n",
      "Iter= 84 , distance =  169.3515350793084\n",
      "Iter= 85 , distance =  137.64926948497566\n",
      "Iter= 86 , distance =  111.95556810037779\n",
      "Iter= 87 , distance =  91.11923911040148\n",
      "Iter= 88 , distance =  74.22141799245615\n",
      "Iter= 89 , distance =  60.515875184857194\n",
      "Iter= 90 , distance =  49.378574412700395\n",
      "Iter= 91 , distance =  40.238518539504845\n",
      "Iter= 92 , distance =  32.122968879551344\n",
      "Iter= 93 , distance =  25.53883296249989\n",
      "Iter= 94 , distance =  19.764782340900425\n",
      "Iter= 95 , distance =  15.153203272642822\n",
      "Iter= 96 , distance =  11.172872644411502\n",
      "Iter= 97 , distance =  8.01896071891611\n",
      "Iter= 98 , distance =  5.340328256839245\n",
      "Iter= 99 , distance =  3.234203350397436\n",
      "Iter= 100 , distance =  1.4631241776503991\n",
      "Iter= 101 , distance =  0.0\n",
      "YAY! IT CONVERGED\n",
      "V(W) [-8.10161181e+04 -7.29191115e+04 -6.56318055e+04 -5.90732301e+04\n",
      " -5.31705123e+04 -4.78580662e+04 -4.30768648e+04 -3.87737835e+04\n",
      " -3.49010103e+04 -3.14155144e+04 -2.82785681e+04 -2.54553165e+04\n",
      " -2.29143900e+04 -2.06275562e+04 -1.85694057e+04 -1.67170703e+04\n",
      " -1.50499685e+04 -1.35495768e+04 -1.21992243e+04 -1.09839070e+04\n",
      " -9.89012150e+03 -8.90571452e+03 -8.01974824e+03 -7.22237858e+03\n",
      " -6.50474589e+03 -5.85887647e+03 -5.27759400e+03 -4.75443977e+03\n",
      " -4.28360096e+03 -3.85984604e+03 -3.47846660e+03 -3.13522511e+03\n",
      " -2.82630777e+03 -2.54828216e+03 -2.29805912e+03 -2.07285838e+03\n",
      " -1.87017771e+03 -1.68776511e+03 -1.52359377e+03 -1.37583956e+03\n",
      " -1.24286077e+03 -1.12317987e+03 -1.01546705e+03 -9.18525516e+02\n",
      " -8.31278135e+02 -7.52755491e+02 -6.82085112e+02 -6.18481771e+02\n",
      " -5.61238764e+02 -5.09720058e+02 -4.63353223e+02 -4.21623071e+02\n",
      " -3.84065934e+02 -3.50264510e+02 -3.19843230e+02 -2.92464077e+02\n",
      " -2.67822839e+02 -2.45645726e+02 -2.25686323e+02 -2.07722861e+02\n",
      " -1.91555745e+02 -1.77005341e+02 -1.63909977e+02 -1.52124149e+02\n",
      " -1.41516905e+02 -1.31970384e+02 -1.23378516e+02 -1.15645835e+02\n",
      " -1.08686421e+02 -1.02422949e+02 -9.67858247e+01 -9.17124124e+01\n",
      " -8.71463414e+01 -8.30368774e+01 -7.93383599e+01 -7.60096941e+01\n",
      " -7.30138948e+01 -7.03176755e+01 -6.78910782e+01 -6.57071405e+01\n",
      " -6.37415967e+01 -6.19726072e+01 -6.03805167e+01 -5.89476352e+01\n",
      " -5.76580418e+01 -5.64974078e+01 -5.54528372e+01 -5.45127237e+01\n",
      " -5.36666215e+01 -5.29051296e+01 -5.22119824e+01 -5.15266396e+01\n",
      " -5.09028071e+01 -5.02859987e+01 -4.97245494e+01 -4.91694218e+01\n",
      " -4.86641175e+01 -4.81645026e+01 -4.77097288e+01 -4.72600754e+01]\n"
     ]
    }
   ],
   "source": [
    "maxiters = 500\n",
    "toler = 1e-10\n",
    "dist = 10.0\n",
    "VF_iter = 0\n",
    "while dist > toler and VF_iter < maxiters:\n",
    "    VF_iter += 1\n",
    "    #one contraction mapping\n",
    "    V_prime = np.tile(V_init.reshape((1,N)),(N,1))\n",
    "    V_prime[~c_pos] = -9e+4\n",
    "    V_new = (u_mat + beta * V_prime).max(axis = 1)\n",
    "    dist = ((V_new - V_init)**2).sum()\n",
    "    print('Iter=', VF_iter, ', distance = ', dist)\n",
    "    V_init = V_new\n",
    "    \n",
    "print('YAY! IT CONVERGED')\n",
    "print('V(W)',V_init)"
   ]
  },
  {
   "cell_type": "code",
   "execution_count": 138,
   "metadata": {},
   "outputs": [
    {
     "data": {
      "image/png": "[encoded data removed]",
      "text/plain": [
       "<matplotlib.figure.Figure at 0x1188655f8>"
      ]
     },
     "metadata": {},
     "output_type": "display_data"
    }
   ],
   "source": [
    "plt.plot(V_new)\n",
    "plt.title(\"value function\")\n",
    "plt.show()"
   ]
  },
  {
   "cell_type": "code",
   "execution_count": null,
   "metadata": {},
   "outputs": [],
   "source": [
    "#5.15"
   ]
  },
  {
   "cell_type": "code",
   "execution_count": 141,
   "metadata": {},
   "outputs": [
    {
     "data": {
      "image/png": "[encoded data removed]",
      "text/plain": [
       "<matplotlib.figure.Figure at 0x118efdd68>"
      ]
     },
     "metadata": {},
     "output_type": "display_data"
    }
   ],
   "source": [
    "index = np.argmax(u_mat + beta * V_prime, axis=1)\n",
    "W_prime = W_vec[index]\n",
    "plt.plot(W_vec, W_prime)\n",
    "plt.title(\"Policy Function\")\n",
    "plt.show()"
   ]
  },
  {
   "cell_type": "code",
   "execution_count": null,
   "metadata": {},
   "outputs": [],
   "source": [
    "#5.16"
   ]
  },
  {
   "cell_type": "code",
   "execution_count": 143,
   "metadata": {},
   "outputs": [
    {
     "data": {
      "text/plain": [
       "array([0.5, 1. , 1.5, 2. , 2.5, 3. , 3.5])"
      ]
     },
     "execution_count": 143,
     "metadata": {},
     "output_type": "execute_result"
    }
   ],
   "source": [
    "sig = 0.5\n",
    "mu = 4 * sig\n",
    "M = 7\n",
    "points = np.linspace(mu-3*sig, mu+3*sig, M)\n",
    "points"
   ]
  },
  {
   "cell_type": "code",
   "execution_count": 151,
   "metadata": {},
   "outputs": [
    {
     "data": {
      "text/plain": [
       "array([0.0088637 , 0.10798193, 0.48394145, 0.79788456, 0.48394145,\n",
       "       0.10798193, 0.0088637 ])"
      ]
     },
     "execution_count": 151,
     "metadata": {},
     "output_type": "execute_result"
    }
   ],
   "source": [
    "from scipy.stats import norm\n",
    "Pdf = lambda x: norm(loc = mu, scale = sig).pdf(x)\n",
    "points_pdf = Pdf(points)\n",
    "points_pdf"
   ]
  },
  {
   "cell_type": "code",
   "execution_count": 153,
   "metadata": {},
   "outputs": [
    {
     "data": {
      "image/png": "[encoded data removed]",
      "text/plain": [
       "<matplotlib.figure.Figure at 0x118f29390>"
      ]
     },
     "metadata": {},
     "output_type": "display_data"
    }
   ],
   "source": [
    "plt.plot(points,points_pdf)\n",
    "plt.title(\"Approximated Probability Density\")\n",
    "plt.show()"
   ]
  },
  {
   "cell_type": "code",
   "execution_count": null,
   "metadata": {},
   "outputs": [],
   "source": [
    "#5.17"
   ]
  },
  {
   "cell_type": "code",
   "execution_count": 154,
   "metadata": {},
   "outputs": [],
   "source": [
    "c_mat = (np.tile(W_vec.reshape((N,1)),(1,N)) - \n",
    "        np.tile(W_vec.reshape((1,N)),(N,1)))\n",
    "c_pos = c_mat > 0\n",
    "c_mat[~c_pos] = 1e-7\n",
    "u_mat = utility(c_mat)\n",
    "cube = np.array([u_mat*e for e in points])"
   ]
  },
  {
   "cell_type": "code",
   "execution_count": 155,
   "metadata": {},
   "outputs": [],
   "source": [
    "V_init = np.zeros((N,M))\n",
    "EV = V_init @ points_pdf.reshape((M,1))\n",
    "EV_mat = np.tile(EV.reshape((1,N)),(N,1))\n",
    "EV_mat[~c_pos] = -9e+4\n",
    "EV_cube = np.array([EV_mat for e in range(M)])"
   ]
  },
  {
   "cell_type": "code",
   "execution_count": 158,
   "metadata": {},
   "outputs": [],
   "source": [
    "value = cube + beta * EV_cube\n",
    "V_new = np.zeros((N,M))\n",
    "W_new = np.zeros((N,M))\n",
    "for i in range(N):\n",
    "    VT = value[:,i,:]\n",
    "    V_new[i] = VT.max(axis = 1)\n",
    "    index = np.argmax(VT, axis = 1)\n",
    "    W_new[i] = W_vec[index]"
   ]
  },
  {
   "cell_type": "code",
   "execution_count": 159,
   "metadata": {},
   "outputs": [
    {
     "data": {
      "image/png": "[encoded data removed]",
      "text/plain": [
       "<matplotlib.figure.Figure at 0x118d3d080>"
      ]
     },
     "metadata": {},
     "output_type": "display_data"
    }
   ],
   "source": [
    "#policy function\n",
    "plt.plot(W_vec,np.average(W_new, axis = 1))\n",
    "plt.show()"
   ]
  },
  {
   "cell_type": "code",
   "execution_count": 160,
   "metadata": {},
   "outputs": [
    {
     "data": {
      "image/png": "[encoded data removed]",
      "text/plain": [
       "<matplotlib.figure.Figure at 0x118d42e48>"
      ]
     },
     "metadata": {},
     "output_type": "display_data"
    }
   ],
   "source": [
    "#value function\n",
    "plt.plot(np.average(V_new, axis = 1))\n",
    "plt.show()"
   ]
  },
  {
   "cell_type": "code",
   "execution_count": null,
   "metadata": {},
   "outputs": [],
   "source": [
    "#5.18"
   ]
  },
  {
   "cell_type": "code",
   "execution_count": 161,
   "metadata": {},
   "outputs": [
    {
     "name": "stdout",
     "output_type": "stream",
     "text": [
      "45963571196.10551\n"
     ]
    }
   ],
   "source": [
    "dist = np.sum((V_init - V_new)**2)\n",
    "print(dist)"
   ]
  },
  {
   "cell_type": "code",
   "execution_count": null,
   "metadata": {},
   "outputs": [],
   "source": [
    "#5.19"
   ]
  },
  {
   "cell_type": "code",
   "execution_count": 163,
   "metadata": {},
   "outputs": [],
   "source": [
    "V_init = V_new\n",
    "EV = V_init @ points_pdf.reshape((M,1))\n",
    "EV_mat = np.tile(EV.reshape((1,N)),(N,1))\n",
    "EV_mat[~c_pos] = -9e+4\n",
    "EV_cube = np.array([EV_mat for e in range(M)])\n",
    "value = cube + beta * EV_cube\n",
    "V_new1 = np.zeros((N,M))\n",
    "W_new1 = np.zeros((N,M))\n",
    "for i in range(N):\n",
    "    VT = value[:,i,:]\n",
    "    V_new1[i] = VT.max(axis = 1)\n",
    "    index = np.argmax(VT, axis = 1)\n",
    "    W_new1[i] = W_vec[index]"
   ]
  },
  {
   "cell_type": "code",
   "execution_count": 164,
   "metadata": {},
   "outputs": [
    {
     "data": {
      "image/png": "[encoded data removed]",
      "text/plain": [
       "<matplotlib.figure.Figure at 0x118a322e8>"
      ]
     },
     "metadata": {},
     "output_type": "display_data"
    }
   ],
   "source": [
    "#policy function\n",
    "plt.plot(W_vec,np.average(W_new1, axis = 1))\n",
    "plt.show()"
   ]
  },
  {
   "cell_type": "code",
   "execution_count": 165,
   "metadata": {},
   "outputs": [
    {
     "data": {
      "image/png": "[encoded data removed]",
      "text/plain": [
       "<matplotlib.figure.Figure at 0x118fd81d0>"
      ]
     },
     "metadata": {},
     "output_type": "display_data"
    }
   ],
   "source": [
    "#value function\n",
    "plt.plot(np.average(V_new1, axis = 1))\n",
    "plt.show()"
   ]
  },
  {
   "cell_type": "code",
   "execution_count": 166,
   "metadata": {},
   "outputs": [
    {
     "name": "stdout",
     "output_type": "stream",
     "text": [
      "Distance T 45963571196.10551\n",
      "Distance T-1 45953155651.859604\n",
      "distance turns smaller\n"
     ]
    }
   ],
   "source": [
    "dist1 = np.sum((V_new1 - V_new)**2)\n",
    "print(\"Distance T\",dist)\n",
    "print(\"Distance T-1\",dist1)\n",
    "print(\"distance turns smaller\")\n",
    "    "
   ]
  },
  {
   "cell_type": "code",
   "execution_count": null,
   "metadata": {},
   "outputs": [],
   "source": [
    "#5.20"
   ]
  },
  {
   "cell_type": "code",
   "execution_count": 167,
   "metadata": {},
   "outputs": [],
   "source": [
    "V_init = V_new1\n",
    "EV = V_init @ points_pdf.reshape((M,1))\n",
    "EV_mat = np.tile(EV.reshape((1,N)),(N,1))\n",
    "EV_mat[~c_pos] = -9e+4\n",
    "EV_cube = np.array([EV_mat for e in range(M)])\n",
    "value = cube + beta * EV_cube\n",
    "V_new2 = np.zeros((N,M))\n",
    "W_new2 = np.zeros((N,M))\n",
    "for i in range(N):\n",
    "    VT = value[:,i,:]\n",
    "    V_new2[i] = VT.max(axis = 1)\n",
    "    index = np.argmax(VT, axis = 1)\n",
    "    W_new2[i] = W_vec[index]"
   ]
  },
  {
   "cell_type": "code",
   "execution_count": 168,
   "metadata": {},
   "outputs": [
    {
     "data": {
      "image/png": "[encoded data removed]",
      "text/plain": [
       "<matplotlib.figure.Figure at 0x1a1a8c0128>"
      ]
     },
     "metadata": {},
     "output_type": "display_data"
    }
   ],
   "source": [
    "#policy function\n",
    "plt.plot(W_vec,np.average(W_new1, axis = 1))\n",
    "plt.show()"
   ]
  },
  {
   "cell_type": "code",
   "execution_count": 169,
   "metadata": {},
   "outputs": [
    {
     "data": {
      "image/png": "[encoded data removed]",
      "text/plain": [
       "<matplotlib.figure.Figure at 0x1a1a968550>"
      ]
     },
     "metadata": {},
     "output_type": "display_data"
    }
   ],
   "source": [
    "#value function\n",
    "plt.plot(np.average(V_new1, axis = 1))\n",
    "plt.show()"
   ]
  },
  {
   "cell_type": "code",
   "execution_count": 171,
   "metadata": {},
   "outputs": [
    {
     "name": "stdout",
     "output_type": "stream",
     "text": [
      "Distance T 45963571196.10551\n",
      "Distance T-1 45953155651.859604\n",
      "Distance T-2 45934472596.166245\n"
     ]
    }
   ],
   "source": [
    "dist2 = np.sum((V_new2 - V_new1)**2)\n",
    "print(\"Distance T\",dist)\n",
    "print(\"Distance T-1\",dist1)\n",
    "print(\"Distance T-2\",dist2)\n"
   ]
  },
  {
   "cell_type": "code",
   "execution_count": null,
   "metadata": {},
   "outputs": [],
   "source": [
    "#5.21"
   ]
  },
  {
   "cell_type": "code",
   "execution_count": 173,
   "metadata": {},
   "outputs": [
    {
     "name": "stdout",
     "output_type": "stream",
     "text": [
      "Iter= 1 , distance =  45963571196.10551\n",
      "Iter= 2 , distance =  45953155651.859604\n",
      "Iter= 3 , distance =  45934472596.166245\n",
      "Iter= 4 , distance =  45901033774.70888\n",
      "Iter= 5 , distance =  45841440579.44991\n",
      "Iter= 6 , distance =  45736060684.31199\n",
      "Iter= 7 , distance =  45552402370.20611\n",
      "Iter= 8 , distance =  45241165831.95568\n",
      "Iter= 9 , distance =  44743295702.61597\n",
      "Iter= 10 , distance =  44048017695.89585\n",
      "Iter= 11 , distance =  43443854297.730034\n",
      "Iter= 12 , distance =  44442974185.644424\n",
      "Iter= 13 , distance =  52967967667.04762\n",
      "Iter= 14 , distance =  89997648384.71588\n",
      "Iter= 15 , distance =  226554825804.06644\n",
      "Iter= 16 , distance =  457375601904.8917\n",
      "Iter= 17 , distance =  192167632805.63055\n",
      "Iter= 18 , distance =  0.0\n",
      "YAY! IT CONVERGED\n",
      "V(W) [[-81008.05904783 -81016.11809565 -81024.17714348 -81032.2361913\n",
      "  -81040.29523913 -81048.35428695 -81056.41333478]\n",
      " [-81008.05904783 -81016.11809565 -81024.17714348 -81032.2361913\n",
      "  -81040.29523913 -81048.35428695 -81056.41333478]\n",
      " [-81008.05904783 -81016.11809565 -81024.17714348 -81032.2361913\n",
      "  -81040.29523913 -81048.35428695 -81056.41333478]\n",
      " [-81008.05904783 -81016.11809565 -81024.17714348 -81032.2361913\n",
      "  -81040.29523913 -81048.35428695 -81056.41333478]\n",
      " [-81008.05904783 -81016.11809565 -81024.17714348 -81032.2361913\n",
      "  -81040.29523913 -81048.35428695 -81056.41333478]\n",
      " [-81008.05904783 -81016.11809565 -81024.17714348 -81032.2361913\n",
      "  -81040.29523913 -81048.35428695 -81056.41333478]\n",
      " [-81008.05904783 -81016.11809565 -81024.17714348 -81032.2361913\n",
      "  -81040.29523913 -81048.35428695 -81056.41333478]\n",
      " [-81008.05904783 -81016.11809565 -81024.17714348 -81032.2361913\n",
      "  -81040.29523913 -81048.35428695 -81056.41333478]\n",
      " [-81008.05904783 -81016.11809565 -81024.17714348 -81032.2361913\n",
      "  -81040.29523913 -81048.35428695 -81056.41333478]\n",
      " [-81008.05904783 -81016.11809565 -81024.17714348 -81032.2361913\n",
      "  -81040.29523913 -81048.35428695 -81056.41333478]\n",
      " [-81008.05904783 -81016.11809565 -81024.17714348 -81032.2361913\n",
      "  -81040.29523913 -81048.35428695 -81056.41333478]\n",
      " [-81008.05904783 -81016.11809565 -81024.17714348 -81032.2361913\n",
      "  -81040.29523913 -81048.35428695 -81056.41333478]\n",
      " [-81008.05904783 -81016.11809565 -81024.17714348 -81032.2361913\n",
      "  -81040.29523913 -81048.35428695 -81056.41333478]\n",
      " [-81008.05904783 -81016.11809565 -81024.17714348 -81032.2361913\n",
      "  -81040.29523913 -81048.35428695 -81056.41333478]\n",
      " [-81008.05904783 -81016.11809565 -81024.17714348 -81032.2361913\n",
      "  -81040.29523913 -81048.35428695 -81056.41333478]\n",
      " [-81008.05904783 -81016.11809565 -81024.17714348 -81032.2361913\n",
      "  -81040.29523913 -81048.35428695 -81056.41333478]\n",
      " [-81008.05904783 -81016.11809565 -81024.17714348 -81032.2361913\n",
      "  -81040.29523913 -81048.35428695 -81056.41333478]\n",
      " [-81008.05904783 -81016.11809565 -81024.17714348 -81032.2361913\n",
      "  -81040.29523913 -81048.35428695 -81056.41333478]\n",
      " [-81008.05904783 -81016.11809565 -81024.17714348 -81032.2361913\n",
      "  -81040.29523913 -81048.35428695 -81056.41333478]\n",
      " [-81008.05904783 -81016.11809565 -81024.17714348 -81032.2361913\n",
      "  -81040.29523913 -81048.35428695 -81056.41333478]\n",
      " [-81008.05904783 -81016.11809565 -81024.17714348 -81032.2361913\n",
      "  -81040.29523913 -81048.35428695 -81056.41333478]\n",
      " [-81008.05904783 -81016.11809565 -81024.17714348 -81032.2361913\n",
      "  -81040.29523913 -81048.35428695 -81056.41333478]\n",
      " [-81008.05904783 -81016.11809565 -81024.17714348 -81032.2361913\n",
      "  -81040.29523913 -81048.35428695 -81056.41333478]\n",
      " [-81008.05904783 -81016.11809565 -81024.17714348 -81032.2361913\n",
      "  -81040.29523913 -81048.35428695 -81056.41333478]\n",
      " [-81008.05904783 -81016.11809565 -81024.17714348 -81032.2361913\n",
      "  -81040.29523913 -81048.35428695 -81056.41333478]\n",
      " [-81008.05904783 -81016.11809565 -81024.17714348 -81032.2361913\n",
      "  -81040.29523913 -81048.35428695 -81056.41333478]\n",
      " [-81008.05904783 -81016.11809565 -81024.17714348 -81032.2361913\n",
      "  -81040.29523913 -81048.35428695 -81056.41333478]\n",
      " [-81008.05904783 -81016.11809565 -81024.17714348 -81032.2361913\n",
      "  -81040.29523913 -81048.35428695 -81056.41333478]\n",
      " [-81008.05904783 -81016.11809565 -81024.17714348 -81032.2361913\n",
      "  -81040.29523913 -81048.35428695 -81056.41333478]\n",
      " [-81008.05904783 -81016.11809565 -81024.17714348 -81032.2361913\n",
      "  -81040.29523913 -81048.35428695 -81056.41333478]\n",
      " [-81008.05904783 -81016.11809565 -81024.17714348 -81032.2361913\n",
      "  -81040.29523913 -81048.35428695 -81056.41333478]\n",
      " [-81008.05904783 -81016.11809565 -81024.17714348 -81032.2361913\n",
      "  -81040.29523913 -81048.35428695 -81056.41333478]\n",
      " [-81008.05904783 -81016.11809565 -81024.17714348 -81032.2361913\n",
      "  -81040.29523913 -81048.35428695 -81056.41333478]\n",
      " [-81008.05904783 -81016.11809565 -81024.17714348 -81032.2361913\n",
      "  -81040.29523913 -81048.35428695 -81056.41333478]\n",
      " [-81008.05904783 -81016.11809565 -81024.17714348 -81032.2361913\n",
      "  -81040.29523913 -81048.35428695 -81056.41333478]\n",
      " [-81008.05904783 -81016.11809565 -81024.17714348 -81032.2361913\n",
      "  -81040.29523913 -81048.35428695 -81056.41333478]\n",
      " [-81008.05904783 -81016.11809565 -81024.17714348 -81032.2361913\n",
      "  -81040.29523913 -81048.35428695 -81056.41333478]\n",
      " [-81008.05904783 -81016.11809565 -81024.17714348 -81032.2361913\n",
      "  -81040.29523913 -81048.35428695 -81056.41333478]\n",
      " [-81008.05904783 -81016.11809565 -81024.17714348 -81032.2361913\n",
      "  -81040.29523913 -81048.35428695 -81056.41333478]\n",
      " [-81008.05904783 -81016.11809565 -81024.17714348 -81032.2361913\n",
      "  -81040.29523913 -81048.35428695 -81056.41333478]\n",
      " [-81008.05904783 -81016.11809565 -81024.17714348 -81032.2361913\n",
      "  -81040.29523913 -81048.35428695 -81056.41333478]\n",
      " [-81008.05904783 -81016.11809565 -81024.17714348 -81032.2361913\n",
      "  -81040.29523913 -81048.35428695 -81056.41333478]\n",
      " [-81008.05904783 -81016.11809565 -81024.17714348 -81032.2361913\n",
      "  -81040.29523913 -81048.35428695 -81056.41333478]\n",
      " [-81008.05904783 -81016.11809565 -81024.17714348 -81032.2361913\n",
      "  -81040.29523913 -81048.35428695 -81056.41333478]\n",
      " [-81008.05904783 -81016.11809565 -81024.17714348 -81032.2361913\n",
      "  -81040.29523913 -81048.35428695 -81056.41333478]\n",
      " [-81008.05904783 -81016.11809565 -81024.17714348 -81032.2361913\n",
      "  -81040.29523913 -81048.35428695 -81056.41333478]\n",
      " [-81008.05904783 -81016.11809565 -81024.17714348 -81032.2361913\n",
      "  -81040.29523913 -81048.35428695 -81056.41333478]\n",
      " [-81008.05904783 -81016.11809565 -81024.17714348 -81032.2361913\n",
      "  -81040.29523913 -81048.35428695 -81056.41333478]\n",
      " [-81008.05904783 -81016.11809565 -81024.17714348 -81032.2361913\n",
      "  -81040.29523913 -81048.35428695 -81056.41333478]\n",
      " [-81008.05904783 -81016.11809565 -81024.17714348 -81032.2361913\n",
      "  -81040.29523913 -81048.35428695 -81056.41333478]\n",
      " [-81008.05904783 -81016.11809565 -81024.17714348 -81032.2361913\n",
      "  -81040.29523913 -81048.35428695 -81056.41333478]\n",
      " [-81008.05904783 -81016.11809565 -81024.17714348 -81032.2361913\n",
      "  -81040.29523913 -81048.35428695 -81056.41333478]\n",
      " [-81008.05904783 -81016.11809565 -81024.17714348 -81032.2361913\n",
      "  -81040.29523913 -81048.35428695 -81056.41333478]\n",
      " [-81008.05904783 -81016.11809565 -81024.17714348 -81032.2361913\n",
      "  -81040.29523913 -81048.35428695 -81056.41333478]\n",
      " [-81008.05904783 -81016.11809565 -81024.17714348 -81032.2361913\n",
      "  -81040.29523913 -81048.35428695 -81056.41333478]\n",
      " [-81008.05904783 -81016.11809565 -81024.17714348 -81032.2361913\n",
      "  -81040.29523913 -81048.35428695 -81056.41333478]\n",
      " [-81008.05904783 -81016.11809565 -81024.17714348 -81032.2361913\n",
      "  -81040.29523913 -81048.35428695 -81056.41333478]\n",
      " [-81008.05904783 -81016.11809565 -81024.17714348 -81032.2361913\n",
      "  -81040.29523913 -81048.35428695 -81056.41333478]\n",
      " [-81008.05904783 -81016.11809565 -81024.17714348 -81032.2361913\n",
      "  -81040.29523913 -81048.35428695 -81056.41333478]\n",
      " [-81008.05904783 -81016.11809565 -81024.17714348 -81032.2361913\n",
      "  -81040.29523913 -81048.35428695 -81056.41333478]\n",
      " [-81008.05904783 -81016.11809565 -81024.17714348 -81032.2361913\n",
      "  -81040.29523913 -81048.35428695 -81056.41333478]\n",
      " [-81008.05904783 -81016.11809565 -81024.17714348 -81032.2361913\n",
      "  -81040.29523913 -81048.35428695 -81056.41333478]\n",
      " [-81008.05904783 -81016.11809565 -81024.17714348 -81032.2361913\n",
      "  -81040.29523913 -81048.35428695 -81056.41333478]\n",
      " [-81008.05904783 -81016.11809565 -81024.17714348 -81032.2361913\n",
      "  -81040.29523913 -81048.35428695 -81056.41333478]\n",
      " [-81008.05904783 -81016.11809565 -81024.17714348 -81032.2361913\n",
      "  -81040.29523913 -81048.35428695 -81056.41333478]\n",
      " [-81008.05904783 -81016.11809565 -81024.17714348 -81032.2361913\n",
      "  -81040.29523913 -81048.35428695 -81056.41333478]\n",
      " [-81008.05904783 -81016.11809565 -81024.17714348 -81032.2361913\n",
      "  -81040.29523913 -81048.35428695 -81056.41333478]\n",
      " [-81008.05904783 -81016.11809565 -81024.17714348 -81032.2361913\n",
      "  -81040.29523913 -81048.35428695 -81056.41333478]\n",
      " [-81008.05904783 -81016.11809565 -81024.17714348 -81032.2361913\n",
      "  -81040.29523913 -81048.35428695 -81056.41333478]\n",
      " [-81008.05904783 -81016.11809565 -81024.17714348 -81032.2361913\n",
      "  -81040.29523913 -81048.35428695 -81056.41333478]\n",
      " [-81008.05904783 -81016.11809565 -81024.17714348 -81032.2361913\n",
      "  -81040.29523913 -81048.35428695 -81056.41333478]\n",
      " [-81008.05904783 -81016.11809565 -81024.17714348 -81032.2361913\n",
      "  -81040.29523913 -81048.35428695 -81056.41333478]\n",
      " [-81008.05904783 -81016.11809565 -81024.17714348 -81032.2361913\n",
      "  -81040.29523913 -81048.35428695 -81056.41333478]\n",
      " [-81008.05904783 -81016.11809565 -81024.17714348 -81032.2361913\n",
      "  -81040.29523913 -81048.35428695 -81056.41333478]\n",
      " [-81008.05904783 -81016.11809565 -81024.17714348 -81032.2361913\n",
      "  -81040.29523913 -81048.35428695 -81056.41333478]\n",
      " [-81008.05904783 -81016.11809565 -81024.17714348 -81032.2361913\n",
      "  -81040.29523913 -81048.35428695 -81056.41333478]\n",
      " [-81008.05904783 -81016.11809565 -81024.17714348 -81032.2361913\n",
      "  -81040.29523913 -81048.35428695 -81056.41333478]\n",
      " [-81008.05904783 -81016.11809565 -81024.17714348 -81032.2361913\n",
      "  -81040.29523913 -81048.35428695 -81056.41333478]\n",
      " [-81008.05904783 -81016.11809565 -81024.17714348 -81032.2361913\n",
      "  -81040.29523913 -81048.35428695 -81056.41333478]\n",
      " [-81008.05904783 -81016.11809565 -81024.17714348 -81032.2361913\n",
      "  -81040.29523913 -81048.35428695 -81056.41333478]\n",
      " [-81008.05904783 -81016.11809565 -81024.17714348 -81032.2361913\n",
      "  -81040.29523913 -81048.35428695 -81056.41333478]\n",
      " [-81008.05904783 -81016.11809565 -81024.17714348 -81032.2361913\n",
      "  -81040.29523913 -81048.35428695 -81056.41333478]\n",
      " [-81008.05904783 -81016.11809565 -81024.17714348 -81032.2361913\n",
      "  -81040.29523913 -81048.35428695 -81056.41333478]\n",
      " [-81008.05904783 -81016.11809565 -81024.17714348 -81032.2361913\n",
      "  -81040.29523913 -81048.35428695 -81056.41333478]\n",
      " [-81008.05904783 -81016.11809565 -81024.17714348 -81032.2361913\n",
      "  -81040.29523913 -81048.35428695 -81056.41333478]\n",
      " [-81008.05904783 -81016.11809565 -81024.17714348 -81032.2361913\n",
      "  -81040.29523913 -81048.35428695 -81056.41333478]\n",
      " [-81008.05904783 -81016.11809565 -81024.17714348 -81032.2361913\n",
      "  -81040.29523913 -81048.35428695 -81056.41333478]\n",
      " [-81008.05904783 -81016.11809565 -81024.17714348 -81032.2361913\n",
      "  -81040.29523913 -81048.35428695 -81056.41333478]\n",
      " [-81008.05904783 -81016.11809565 -81024.17714348 -81032.2361913\n",
      "  -81040.29523913 -81048.35428695 -81056.41333478]\n",
      " [-81008.05904783 -81016.11809565 -81024.17714348 -81032.2361913\n",
      "  -81040.29523913 -81048.35428695 -81056.41333478]\n",
      " [-81008.05904783 -81016.11809565 -81024.17714348 -81032.2361913\n",
      "  -81040.29523913 -81048.35428695 -81056.41333478]\n",
      " [-81008.05904783 -81016.11809565 -81024.17714348 -81032.2361913\n",
      "  -81040.29523913 -81048.35428695 -81056.41333478]\n",
      " [-81008.05904783 -81016.11809565 -81024.17714348 -81032.2361913\n",
      "  -81040.29523913 -81048.35428695 -81056.41333478]\n",
      " [-81008.05904783 -81016.11809565 -81024.17714348 -81032.2361913\n",
      "  -81040.29523913 -81048.35428695 -81056.41333478]\n",
      " [-81008.05904783 -81016.11809565 -81024.17714348 -81032.2361913\n",
      "  -81040.29523913 -81048.35428695 -81056.41333478]\n",
      " [-81008.05904783 -81016.11809565 -81024.17714348 -81032.2361913\n",
      "  -81040.29523913 -81048.35428695 -81056.41333478]\n",
      " [-81008.05904783 -81016.11809565 -81024.17714348 -81032.2361913\n",
      "  -81040.29523913 -81048.35428695 -81056.41333478]\n",
      " [-81008.05904783 -81016.11809565 -81024.17714348 -81032.2361913\n",
      "  -81040.29523913 -81048.35428695 -81056.41333478]\n",
      " [-81008.05904783 -81016.11809565 -81024.17714348 -81032.2361913\n",
      "  -81040.29523913 -81048.35428695 -81056.41333478]\n",
      " [-81008.05904783 -81016.11809565 -81024.17714348 -81032.2361913\n",
      "  -81040.29523913 -81048.35428695 -81056.41333478]]\n"
     ]
    }
   ],
   "source": [
    "maxiters = 500\n",
    "toler = 1e-10\n",
    "dist = 10.0\n",
    "VF_iter = 0\n",
    "V_init = np.zeros((N,M))\n",
    "\n",
    "while dist > toler and VF_iter < maxiters:\n",
    "    VF_iter += 1\n",
    "    #one contraction mapping\n",
    "    EV = V_init @ points_pdf.reshape((M,1))\n",
    "    EV_mat = np.tile(EV.reshape((1,N)),(N,1))\n",
    "    EV_mat[~c_pos] = -9e+4\n",
    "    EV_cube = np.array([EV_mat for e in range(M)])\n",
    "    value = cube + beta * EV_cube\n",
    "    V_new = np.zeros((N,M))\n",
    "    W_new = np.zeros((N,M))\n",
    "    for i in range(N):\n",
    "        VT = value[:,i,:]\n",
    "        V_new[i] = VT.max(axis = 1)\n",
    "        index = np.argmax(VT, axis = 1)\n",
    "        W_new[i] = W_vec[index]\n",
    "\n",
    "    dist = np.sum((V_new - V_init)**2)\n",
    "    print('Iter=', VF_iter, ', distance = ', dist)\n",
    "    V_init = V_new\n",
    "    \n",
    "print('YAY! IT CONVERGED')\n",
    "print('V(W)',V_init)"
   ]
  },
  {
   "cell_type": "code",
   "execution_count": null,
   "metadata": {},
   "outputs": [],
   "source": [
    "#5.22"
   ]
  },
  {
   "cell_type": "code",
   "execution_count": 180,
   "metadata": {},
   "outputs": [
    {
     "data": {
      "image/png": "[encoded data removed]",
      "text/plain": [
       "<matplotlib.figure.Figure at 0x118d3d6a0>"
      ]
     },
     "metadata": {},
     "output_type": "display_data"
    }
   ],
   "source": [
    "from mpl_toolkits.mplot3d import Axes3D\n",
    "X,Y = np.meshgrid(W_vec,points)\n",
    "n_fig = plt.figure(figsize=(8,5))\n",
    "n_ax = n_fig.add_subplot(111, projection = '3d')\n",
    "n_ax.plot_surface(X.T,Y.T,W_new)\n",
    "n_ax.set_title(\"Policy Function\")\n",
    "n_ax.set_xlabel('Cake Today')\n",
    "n_ax.set_ylabel('Taste Shock Today')\n",
    "n_ax.view_init(elev=45,azim=45)\n",
    "plt.show()"
   ]
  },
  {
   "cell_type": "code",
   "execution_count": null,
   "metadata": {},
   "outputs": [],
   "source": []
  },
  {
   "cell_type": "code",
   "execution_count": null,
   "metadata": {},
   "outputs": [],
   "source": []
  },
  {
   "cell_type": "code",
   "execution_count": null,
   "metadata": {},
   "outputs": [],
   "source": []
  },
  {
   "cell_type": "code",
   "execution_count": null,
   "metadata": {},
   "outputs": [],
   "source": []
  }
 ],
 "metadata": {
  "kernelspec": {
   "display_name": "Python 3",
   "language": "python",
   "name": "python3"
  },
  "language_info": {
   "codemirror_mode": {
    "name": "ipython",
    "version": 3
   },
   "file_extension": ".py",
   "mimetype": "text/x-python",
   "name": "python",
   "nbconvert_exporter": "python",
   "pygments_lexer": "ipython3",
   "version": "3.6.4"
  }
 },
 "nbformat": 4,
 "nbformat_minor": 2
}
